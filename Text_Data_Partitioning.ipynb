{
 "cells": [
  {
   "cell_type": "code",
   "execution_count": 1,
   "metadata": {},
   "outputs": [],
   "source": [
    "import random\n",
    "import pandas as pd\n",
    "import requests\n",
    "\n",
    "def sample_books(book_urls, labels):\n",
    "    # Create a list to store the DataFrames\n",
    "    dataframes = []\n",
    "    # Iterate over the book URLs and labels\n",
    "    for url, label in zip(book_urls, labels):\n",
    "        # Download book from Gutenberg\n",
    "        book = requests.get(url)\n",
    "        book = book.text\n",
    "        # Split book into a list of words\n",
    "        words = book.split()\n",
    "        # Create a list to store the partitions\n",
    "        partitions = []\n",
    "        # Use a for loop to sample 200 partitions of 100 words each\n",
    "        for i in range(200):\n",
    "            start_index = random.randint(0, len(words) - 100)\n",
    "            partition = words[start_index : start_index + 100]\n",
    "            partitions.append(\" \".join(partition))\n",
    "        # Create a Pandas DataFrame to store the partitions\n",
    "        data = {'label': [label]*200, 'text': partitions}\n",
    "        df = pd.DataFrame(data)\n",
    "        # Append the DataFrame to the list\n",
    "        dataframes.append(df)\n",
    "    # Concatenate the DataFrames into a single DataFrame\n",
    "    final_df = pd.concat(dataframes)\n",
    "    #return dataframe\n",
    "    return final_df\n",
    "\n"
   ]
  },
  {
   "cell_type": "code",
   "execution_count": 2,
   "metadata": {},
   "outputs": [],
   "source": [
    "#Example usage\n",
    "book_urls = ['http://www.gutenberg.org/files/1342/1342-0.txt', 'http://www.gutenberg.org/files/84/84-0.txt']\n",
    "labels = ['Pride and Prejudice', 'Frankenstein']\n",
    "df = sample_books(book_urls, labels)"
   ]
  }
 ],
 "metadata": {
  "kernelspec": {
   "display_name": "Python 3",
   "language": "python",
   "name": "python3"
  },
  "language_info": {
   "codemirror_mode": {
    "name": "ipython",
    "version": 3
   },
   "file_extension": ".py",
   "mimetype": "text/x-python",
   "name": "python",
   "nbconvert_exporter": "python",
   "pygments_lexer": "ipython3",
   "version": "3.9.5"
  },
  "orig_nbformat": 4,
  "vscode": {
   "interpreter": {
    "hash": "87d9b9d1e678527538d8142a74b02950316a4861c664997bcf14b93b840e5ec0"
   }
  }
 },
 "nbformat": 4,
 "nbformat_minor": 2
}
